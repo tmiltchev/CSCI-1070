{
 "cells": [
  {
   "cell_type": "code",
   "execution_count": 1,
   "id": "457323d6-ea24-4e98-b558-4554ff1bf953",
   "metadata": {},
   "outputs": [
    {
     "ename": "NameError",
     "evalue": "name 'Loops' is not defined",
     "output_type": "error",
     "traceback": [
      "\u001b[1;31m---------------------------------------------------------------------------\u001b[0m",
      "\u001b[1;31mNameError\u001b[0m                                 Traceback (most recent call last)",
      "Cell \u001b[1;32mIn[1], line 1\u001b[0m\n\u001b[1;32m----> 1\u001b[0m \u001b[43mLoops\u001b[49m \u001b[38;5;129;01mand\u001b[39;00m Functions\n",
      "\u001b[1;31mNameError\u001b[0m: name 'Loops' is not defined"
     ]
    }
   ],
   "source": [
    "Loops and Functions\n"
   ]
  },
  {
   "cell_type": "code",
   "execution_count": 12,
   "id": "bb9ed089-6294-4f0a-9b13-6638a916e6f4",
   "metadata": {},
   "outputs": [
    {
     "ename": "SyntaxError",
     "evalue": "invalid syntax (2001089674.py, line 12)",
     "output_type": "error",
     "traceback": [
      "\u001b[1;36m  Cell \u001b[1;32mIn[12], line 12\u001b[1;36m\u001b[0m\n\u001b[1;33m    elif:\u001b[0m\n\u001b[1;37m        ^\u001b[0m\n\u001b[1;31mSyntaxError\u001b[0m\u001b[1;31m:\u001b[0m invalid syntax\n"
     ]
    }
   ],
   "source": [
    "# loops are flow control. they change how data moves through the application.\n",
    "# if...elif...else\n",
    "# if a equals b, return \"they are equal:. If a>b return \"a is greater\" \n",
    "# and if b > a return \"b is greater\".\n",
    "a = 4\n",
    "b = 7\n",
    "\n",
    "if a==b:\n",
    "    print(\"they are equal\")\n",
    "elif a>b: \n",
    "    print(\"a is greater\")\n",
    "elif:\n",
    "    print:(\"b is greater\")   #good idea to make the else part of the function to be a catch-all, if it doesn't fit in the other confines"
   ]
  },
  {
   "cell_type": "code",
   "execution_count": 13,
   "id": "807b3875-bf33-4576-9660-25e46042bca4",
   "metadata": {},
   "outputs": [
    {
     "name": "stdout",
     "output_type": "stream",
     "text": [
      "7\n",
      "6\n"
     ]
    }
   ],
   "source": [
    "# while loops\n",
    "# repeatedly test an expression and continue to run whatever is in the loop\n",
    "#until a stopping condition is met\n",
    "x=7\n",
    "while x > 5:\n",
    "    print(x)\n",
    "    #decrement our x so it can stop\n",
    "    x = x-1"
   ]
  },
  {
   "cell_type": "code",
   "execution_count": 14,
   "id": "47b3af02-ae16-459a-8021-8dbfc30f1467",
   "metadata": {},
   "outputs": [
    {
     "ename": "SyntaxError",
     "evalue": "invalid syntax (1075366950.py, line 3)",
     "output_type": "error",
     "traceback": [
      "\u001b[1;36m  Cell \u001b[1;32mIn[14], line 3\u001b[1;36m\u001b[0m\n\u001b[1;33m    while x < 10\u001b[0m\n\u001b[1;37m                ^\u001b[0m\n\u001b[1;31mSyntaxError\u001b[0m\u001b[1;31m:\u001b[0m invalid syntax\n"
     ]
    }
   ],
   "source": [
    "#create a scenario where x starts at 3 and is incremented by 1\n",
    "x = 3\n",
    "while x < 10\n",
    "print(x)\n",
    "x = x+1"
   ]
  }
 ],
 "metadata": {
  "kernelspec": {
   "display_name": "Python 3 (ipykernel)",
   "language": "python",
   "name": "python3"
  },
  "language_info": {
   "codemirror_mode": {
    "name": "ipython",
    "version": 3
   },
   "file_extension": ".py",
   "mimetype": "text/x-python",
   "name": "python",
   "nbconvert_exporter": "python",
   "pygments_lexer": "ipython3",
   "version": "3.9.1"
  }
 },
 "nbformat": 4,
 "nbformat_minor": 5
}
